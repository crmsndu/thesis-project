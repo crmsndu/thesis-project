{
 "cells": [
  {
   "cell_type": "code",
   "execution_count": 8,
   "metadata": {},
   "outputs": [
    {
     "name": "stderr",
     "output_type": "stream",
     "text": [
      "WARNING: replacing module hamming.\n",
      "WARNING: replacing module chase.\n",
      "WARNING: ignoring conflicting import of hamming.create_GH into Main\n",
      "WARNING: ignoring conflicting import of chase.SISO_Pyndiah into Main\n"
     ]
    }
   ],
   "source": [
    "using LinearAlgebra, Plots, DelimitedFiles\n",
    "include(\"hamming.jl\")\n",
    "include(\"chase.jl\")\n",
    "import .hamming.create_GH\n",
    "import .chase.SISO_Pyndiah"
   ]
  },
  {
   "cell_type": "code",
   "execution_count": 9,
   "metadata": {},
   "outputs": [
    {
     "data": {
      "text/plain": [
       "8-element Vector{Float64}:\n",
       " 0.0\n",
       " 0.2\n",
       " 0.3\n",
       " 0.5\n",
       " 0.7\n",
       " 0.9\n",
       " 1.0\n",
       " 1.0"
      ]
     },
     "metadata": {},
     "output_type": "display_data"
    }
   ],
   "source": [
    "G, H = create_GH(6)\n",
    "k, n = size(G)\n",
    "batch_size = 100\n",
    "min_num = 30\n",
    "iter_num = 6\n",
    "window_size = 7\n",
    "Α = [0.0, 0.2, 0.3, 0.5, 0.7, 0.9, 1.0, 1.0]"
   ]
  },
  {
   "cell_type": "code",
   "execution_count": 10,
   "metadata": {},
   "outputs": [
    {
     "data": {
      "text/plain": [
       "turbo (generic function with 1 method)"
      ]
     },
     "metadata": {},
     "output_type": "display_data"
    }
   ],
   "source": [
    "function turbo(Y)\n",
    "    W = zeros(Float64, n, n)\n",
    "    R = Y + Α[1] * W\n",
    "    for i = 1:iter_num\n",
    "        # R = R + Α[i] * W\n",
    "        if (isodd(i))\n",
    "            for j = 1:n\n",
    "                W[j, :] = SISO_Pyndiah(H, R[j, :], i) - Y[j, :]\n",
    "            end\n",
    "        end\n",
    "        if (iseven(i))\n",
    "            for j = 1:n\n",
    "                W[:, j] = SISO_Pyndiah(H, R[:, j], i) - Y[:, j]\n",
    "            end\n",
    "        end\n",
    "        R = Y + Α[i+1] * W\n",
    "    end\n",
    "    D = ifelse.(R .> 0, 0, 1)\n",
    "    return D\n",
    "end"
   ]
  },
  {
   "cell_type": "code",
   "execution_count": 11,
   "metadata": {},
   "outputs": [
    {
     "data": {
      "text/plain": [
       "732"
      ]
     },
     "metadata": {},
     "output_type": "display_data"
    }
   ],
   "source": [
    "function one_iter(σ, algorithm)\n",
    "    m = rand((0, 1), k, k)\n",
    "    x = mod.(G' * m, 2)\n",
    "    x = mod.(x * G, 2)\n",
    "    y = (-1) .^ x + randn(size(x)) * σ\n",
    "    z = algorithm(y)\n",
    "    return sum(mod.(x + z, 2))\n",
    "\n",
    "end\n",
    "one_iter(1, turbo)"
   ]
  },
  {
   "cell_type": "code",
   "execution_count": 12,
   "metadata": {},
   "outputs": [
    {
     "data": {
      "text/plain": [
       "error_rate (generic function with 1 method)"
      ]
     },
     "metadata": {},
     "output_type": "display_data"
    }
   ],
   "source": [
    "function error_rate(σ, algorithm)\n",
    "    cnt = 0\n",
    "    tmp = 0\n",
    "    batch_num = 0\n",
    "    while (cnt < min_num)\n",
    "        tot = 0\n",
    "        for i = 1:batch_size\n",
    "            ttt = one_iter(σ, algorithm)\n",
    "            if (ttt == 0)\n",
    "                continue\n",
    "            end\n",
    "            tot += 1\n",
    "            tmp += ttt\n",
    "        end\n",
    "        cnt += tot\n",
    "        batch_num += 1\n",
    "    end\n",
    "    p = tmp / (batch_num * batch_size * n * n)\n",
    "    return p\n",
    "end"
   ]
  },
  {
   "cell_type": "code",
   "execution_count": 16,
   "metadata": {},
   "outputs": [
    {
     "data": {
      "text/plain": [
       "6.13138555936073e-7"
      ]
     },
     "metadata": {},
     "output_type": "display_data"
    }
   ],
   "source": [
    "iter_num = 6\n",
    "error_rate(10^-0.3, turbo)"
   ]
  }
 ],
 "metadata": {
  "kernelspec": {
   "display_name": "Julia 1.9.3",
   "language": "julia",
   "name": "julia-1.9"
  },
  "language_info": {
   "file_extension": ".jl",
   "mimetype": "application/julia",
   "name": "julia",
   "version": "1.9.3"
  }
 },
 "nbformat": 4,
 "nbformat_minor": 2
}
