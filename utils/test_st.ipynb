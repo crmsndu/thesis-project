{
 "cells": [
  {
   "cell_type": "code",
   "execution_count": 1,
   "metadata": {},
   "outputs": [],
   "source": [
    "using LinearAlgebra, Plots, DelimitedFiles\n",
    "include(\"hamming.jl\")\n",
    "include(\"chase.jl\")\n",
    "import .hamming.create_GH\n",
    "import .chase.SISO_Pyndiah"
   ]
  },
  {
   "cell_type": "code",
   "execution_count": 2,
   "metadata": {},
   "outputs": [
    {
     "data": {
      "text/plain": [
       "8-element Vector{Float64}:\n",
       " 0.0\n",
       " 0.2\n",
       " 0.3\n",
       " 0.5\n",
       " 0.7\n",
       " 0.9\n",
       " 1.0\n",
       " 1.0"
      ]
     },
     "metadata": {},
     "output_type": "display_data"
    }
   ],
   "source": [
    "G, H = create_GH(5)\n",
    "k, n = size(G)\n",
    "batch_size = 100\n",
    "min_num = 30\n",
    "iter_num = 6\n",
    "window_size = 7\n",
    "Α = [0.0, 0.2, 0.3, 0.5, 0.7, 0.9, 1.0, 1.0]"
   ]
  },
  {
   "cell_type": "code",
   "execution_count": 3,
   "metadata": {},
   "outputs": [
    {
     "data": {
      "text/plain": [
       "turbo (generic function with 1 method)"
      ]
     },
     "metadata": {},
     "output_type": "display_data"
    }
   ],
   "source": [
    "function turbo(Y)\n",
    "    W = zeros(Float64, n, n)\n",
    "    R = Y + Α[1] * W\n",
    "    for i = 1:iter_num\n",
    "        # R = R + Α[i] * W\n",
    "        if (isodd(i))\n",
    "            for j = 1:n\n",
    "                W[j, :] = SISO_Pyndiah(H, R[j, :], i) - Y[j, :]\n",
    "            end\n",
    "        end\n",
    "        if (iseven(i))\n",
    "            for j = 1:n\n",
    "                W[:, j] = SISO_Pyndiah(H, R[:, j], i) - Y[:, j]\n",
    "            end\n",
    "        end\n",
    "        R = Y + Α[i+1] * W\n",
    "    end\n",
    "    D = ifelse.(R .> 0, 0, 1)\n",
    "    return D\n",
    "end"
   ]
  },
  {
   "cell_type": "code",
   "execution_count": 4,
   "metadata": {},
   "outputs": [
    {
     "data": {
      "text/plain": [
       "194"
      ]
     },
     "metadata": {},
     "output_type": "display_data"
    }
   ],
   "source": [
    "function one_iter(σ, algorithm)\n",
    "    m = rand((0, 1), k, k)\n",
    "    # if (algorithm == uncoded)\n",
    "    #     x = m\n",
    "    # else\n",
    "    x = mod.(G' * m, 2)\n",
    "    x = mod.(x * G, 2)\n",
    "    # end\n",
    "    y = (-1) .^ x + randn(size(x)) * σ\n",
    "    z = algorithm(y)\n",
    "    # println(x)\n",
    "    # println(z)\n",
    "\n",
    "    return sum(mod.(x + z, 2))\n",
    "\n",
    "end\n",
    "one_iter(1, turbo)"
   ]
  },
  {
   "cell_type": "code",
   "execution_count": 5,
   "metadata": {},
   "outputs": [
    {
     "data": {
      "text/plain": [
       "error_rate (generic function with 1 method)"
      ]
     },
     "metadata": {},
     "output_type": "display_data"
    }
   ],
   "source": [
    "function error_rate(σ)\n",
    "    batch_num = 0\n",
    "    cnt = 0\n",
    "    tmp = 0\n",
    "    while (cnt < min_num)\n",
    "        tot = 0\n",
    "        ttt = 0\n",
    "        A = zeros(Int64, batch_size + 12, Int64(n / 2), Int64(n / 2))\n",
    "        for i = 2:size(A)[1]\n",
    "            m = rand((0, 1), Int64(n / 2), k - Int64(n / 2))\n",
    "            p = mod.([A[i-1, :, :]' m] * G[:, k+1:n], 2)\n",
    "            A[i, :, :] = [m p]\n",
    "        end\n",
    "        B = (-1.0) .^ A\n",
    "        B = B + randn(size(B)) * σ\n",
    "        R = copy(B)\n",
    "        a = zeros(size(B))\n",
    "        for i = 7:size(B)[1]\n",
    "            for j = i:-1:i-5\n",
    "                for l = 1:Int64(n / 2)\n",
    "                    w = SISO_Pyndiah(H, vec([R[j-1, :, l] R[j, l, :]]), i - j + 1) - vec([B[j-1, :, l] B[j, l, :]])\n",
    "                    # a[j-1, :, l] = w[1:Int64(n / 2)] * Α[i-j+2]\n",
    "                    # a[j, l, :] = w[Int64(n / 2)+1:n] * Α[i-j+2]\n",
    "                    R[j-1, :, l] = B[j-1, :, l] + w[1:Int64(n / 2)] * Α[i-j+2]\n",
    "                    R[j, l, :] = B[j, l, :] + w[Int64(n / 2)+1:n] * Α[i-j+2]\n",
    "                end\n",
    "            end\n",
    "        end\n",
    "        D = ifelse.(R .> 0, 0, 1)\n",
    "        for i = 7:size(A)[1]-6\n",
    "            if (D[i, :, :] != A[i, :, :])\n",
    "                tot += 1\n",
    "                ttt += sum(mod.(D[i, :, :] + A[i, :, :], 2))\n",
    "            end\n",
    "        end\n",
    "        cnt += tot\n",
    "        tmp += ttt\n",
    "        batch_num += 1\n",
    "    end\n",
    "    p = tmp / (batch_num * batch_size * n / 2 * n / 2)\n",
    "    return p\n",
    "end"
   ]
  },
  {
   "cell_type": "code",
   "execution_count": 6,
   "metadata": {},
   "outputs": [
    {
     "data": {
      "text/plain": [
       "2.747252747252747e-6"
      ]
     },
     "metadata": {},
     "output_type": "display_data"
    }
   ],
   "source": [
    "iter_num = 6\n",
    "error_rate(10^-0.225)"
   ]
  }
 ],
 "metadata": {
  "kernelspec": {
   "display_name": "Julia 1.9.3",
   "language": "julia",
   "name": "julia-1.9"
  },
  "language_info": {
   "file_extension": ".jl",
   "mimetype": "application/julia",
   "name": "julia",
   "version": "1.9.3"
  }
 },
 "nbformat": 4,
 "nbformat_minor": 2
}
