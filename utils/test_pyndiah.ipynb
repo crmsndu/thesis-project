{
 "cells": [
  {
   "cell_type": "code",
   "execution_count": 1,
   "metadata": {},
   "outputs": [],
   "source": [
    "using LinearAlgebra, Plots, DelimitedFiles\n",
    "include(\"hamming.jl\")\n",
    "include(\"chase.jl\")\n",
    "import .hamming.create_GH\n",
    "using .chase\n",
    "import Random"
   ]
  },
  {
   "cell_type": "code",
   "execution_count": 2,
   "metadata": {},
   "outputs": [
    {
     "data": {
      "text/plain": [
       "26×32 Matrix{Int64}:\n",
       " 1  0  0  0  0  0  0  0  0  0  0  0  0  …  0  0  0  0  0  0  0  0  0  1  1  1\n",
       " 0  1  0  0  0  0  0  0  0  0  0  0  0     0  0  0  0  0  0  0  0  1  0  1  1\n",
       " 0  0  1  0  0  0  0  0  0  0  0  0  0     0  0  0  0  0  0  0  0  1  1  0  1\n",
       " 0  0  0  1  0  0  0  0  0  0  0  0  0     0  0  0  0  0  0  0  0  1  1  1  0\n",
       " 0  0  0  0  1  0  0  0  0  0  0  0  0     0  0  0  0  0  0  0  1  0  0  1  1\n",
       " 0  0  0  0  0  1  0  0  0  0  0  0  0  …  0  0  0  0  0  0  0  1  0  1  0  1\n",
       " 0  0  0  0  0  0  1  0  0  0  0  0  0     0  0  0  0  0  0  0  1  0  1  1  0\n",
       " 0  0  0  0  0  0  0  1  0  0  0  0  0     0  0  0  0  0  0  0  1  1  0  0  1\n",
       " 0  0  0  0  0  0  0  0  1  0  0  0  0     0  0  0  0  0  0  0  1  1  0  1  0\n",
       " 0  0  0  0  0  0  0  0  0  1  0  0  0     0  0  0  0  0  0  0  1  1  1  0  0\n",
       " ⋮              ⋮              ⋮        ⋱  ⋮              ⋮              ⋮  \n",
       " 0  0  0  0  0  0  0  0  0  0  0  0  0     0  0  0  0  0  0  1  0  1  1  1  1\n",
       " 0  0  0  0  0  0  0  0  0  0  0  0  0     0  0  0  0  0  0  1  1  0  0  0  1\n",
       " 0  0  0  0  0  0  0  0  0  0  0  0  0     0  0  0  0  0  0  1  1  0  0  1  0\n",
       " 0  0  0  0  0  0  0  0  0  0  0  0  0  …  1  0  0  0  0  0  1  1  0  1  0  0\n",
       " 0  0  0  0  0  0  0  0  0  0  0  0  0     0  1  0  0  0  0  1  1  0  1  1  1\n",
       " 0  0  0  0  0  0  0  0  0  0  0  0  0     0  0  1  0  0  0  1  1  1  0  0  0\n",
       " 0  0  0  0  0  0  0  0  0  0  0  0  0     0  0  0  1  0  0  1  1  1  0  1  1\n",
       " 0  0  0  0  0  0  0  0  0  0  0  0  0     0  0  0  0  1  0  1  1  1  1  0  1\n",
       " 0  0  0  0  0  0  0  0  0  0  0  0  0  …  0  0  0  0  0  1  1  1  1  1  1  0"
      ]
     },
     "metadata": {},
     "output_type": "display_data"
    }
   ],
   "source": [
    "G, H = create_GH(5)\n",
    "k, n = size(G)\n",
    "G"
   ]
  },
  {
   "cell_type": "code",
   "execution_count": 3,
   "metadata": {},
   "outputs": [
    {
     "data": {
      "text/plain": [
       "32-element Vector{Float64}:\n",
       "  0.9706563288552144\n",
       " -0.9792184115351997\n",
       "  0.9018608835940937\n",
       " -0.03280312924463938\n",
       " -0.6007922233555612\n",
       " -1.445177115286233\n",
       "  2.7074239417157804\n",
       "  1.5244478634355956\n",
       "  0.759804020007466\n",
       " -0.8814369061964817\n",
       "  ⋮\n",
       " -1.073632485740185\n",
       "  0.9217661545999248\n",
       " -0.9218621879132671\n",
       "  1.2338792728477128\n",
       "  1.4059124131516725\n",
       "  0.9041215893220864\n",
       "  2.543901623541404\n",
       "  1.0110129145127833\n",
       " -0.9035414832281808"
      ]
     },
     "metadata": {},
     "output_type": "display_data"
    }
   ],
   "source": [
    "Random.seed!(1234)\n",
    "test_n = randn(n)\n",
    "test_y = G[k, :] + test_n"
   ]
  },
  {
   "cell_type": "code",
   "execution_count": 7,
   "metadata": {},
   "outputs": [
    {
     "data": {
      "text/plain": [
       "32-element Vector{Float64}:\n",
       "  1.1336276228815088\n",
       " -0.8\n",
       "  0.8\n",
       " -0.8014657898579198\n",
       " -0.8\n",
       " -0.8\n",
       "  3.104446980585493\n",
       "  0.8\n",
       "  0.8\n",
       " -0.8\n",
       "  ⋮\n",
       " -0.8\n",
       "  0.8\n",
       " -1.2003909885319644\n",
       "  0.8\n",
       "  0.8\n",
       "  0.8\n",
       "  0.8\n",
       "  0.8\n",
       " -0.8"
      ]
     },
     "metadata": {},
     "output_type": "display_data"
    }
   ],
   "source": [
    "chase.SISO_Pyndiah(H, test_y, 4)"
   ]
  },
  {
   "cell_type": "code",
   "execution_count": 8,
   "metadata": {},
   "outputs": [],
   "source": [
    "for i = 1:1000000\n",
    "    chase.SISO_Pyndiah(H, test_y, 4)\n",
    "end"
   ]
  }
 ],
 "metadata": {
  "kernelspec": {
   "display_name": "Julia 1.9.3",
   "language": "julia",
   "name": "julia-1.9"
  },
  "language_info": {
   "file_extension": ".jl",
   "mimetype": "application/julia",
   "name": "julia",
   "version": "1.9.3"
  }
 },
 "nbformat": 4,
 "nbformat_minor": 2
}
